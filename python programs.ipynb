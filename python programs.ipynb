{
 "cells": [
  {
   "cell_type": "code",
   "execution_count": 4,
   "metadata": {},
   "outputs": [
    {
     "name": "stdout",
     "output_type": "stream",
     "text": [
      "Enter a year:2000\n",
      "2000  is a leap year\n"
     ]
    }
   ],
   "source": [
    "#Python program to check whether a given year is a leapyear\n",
    "\n",
    "year = int(input(\"Enter a year:\"))\n",
    "if(year % 4) == 0:\n",
    "    if(year % 100) == 0:\n",
    "        if(year % 400) == 0:\n",
    "            print(\"{0}  is a leap year\". format(year))\n",
    "        else:\n",
    "            print(\"{0} is not a leap year\" . format(year))\n",
    "       \n",
    "    else:\n",
    "            print(\"{0} is not a leap year\". format(year))\n",
    "        \n",
    "else:\n",
    "            print(\"{0} is not a leap year\" . format(year))"
   ]
  },
  {
   "cell_type": "code",
   "execution_count": 9,
   "metadata": {},
   "outputs": [
    {
     "name": "stdout",
     "output_type": "stream",
     "text": [
      "enter the height in centimeters50\n",
      "the length in inches 19.7\n",
      "the length in feet 1.64\n"
     ]
    }
   ],
   "source": [
    "#Python program to read height in centimetrs and then convert the height to feet and inches\n",
    "\n",
    "cm = int(input(\"enter the height in centimeters\"))\n",
    "inches = 0.394*cm\n",
    "feet = 0.0328*cm\n",
    "print (\"the length in inches\" , round(inches ,2))\n",
    "print(\"the length in feet\" , round(feet , 2 ))"
   ]
  },
  {
   "cell_type": "code",
   "execution_count": 2,
   "metadata": {},
   "outputs": [
    {
     "name": "stdout",
     "output_type": "stream",
     "text": [
      " enter the temperature in celsius32\n",
      "temperature in farenheit: 89.6\n"
     ]
    }
   ],
   "source": [
    "#python program to take the temperature in celsious\n",
    "celsius= int(input(\" enter the temperature in celsius\"))\n",
    "farenheit =  (celsius*1.8)+32\n",
    "print(\"temperature in farenheit:\" , farenheit)\n",
    "\n",
    "\n"
   ]
  },
  {
   "cell_type": "code",
   "execution_count": null,
   "metadata": {},
   "outputs": [
    {
     "name": "stdout",
     "output_type": "stream",
     "text": [
      "enter an integer5\n",
      "factors are\n"
     ]
    }
   ],
   "source": [
    "# python program to compute  prime factors of an integer\n",
    "\n",
    "n = int(input(\"enter an integer\"))\n",
    "print(\"factors are\")\n",
    "i = 1\n",
    "while(i <= n):\n",
    "    k = 0\n",
    "    if(n%i == 0):\n",
    "         j = 1\n",
    "while(j<=i):\n",
    "              if(i%j == 0):\n",
    "                k= k + 1\n",
    "                j = j + 1\n",
    "                if(k == 2):\n",
    "                   print(i)\n",
    "i = i+1        \n",
    "        \n",
    "    \n",
    "\n",
    "\n",
    "\n",
    "\n",
    "\n",
    "\n",
    "\n",
    "\n",
    "\n",
    "\n",
    "\n",
    "\n",
    "\n",
    "\n",
    "\n",
    "\n",
    "\n",
    "\n",
    "\n"
   ]
  },
  {
   "cell_type": "code",
   "execution_count": null,
   "metadata": {},
   "outputs": [],
   "source": [
    "# python program to generate all the divisors of an integer\n",
    "\n",
    "n = int(input(\"enter an integer\"))\n",
    "print (\"all the divisors\")\n",
    "for i in range (1 , n):\n",
    "if(n%i == 0):\n",
    "      print(i)\n",
    "\n"
   ]
  },
  {
   "cell_type": "code",
   "execution_count": null,
   "metadata": {},
   "outputs": [],
   "source": [
    "# python program to print the table of a given number\n",
    "\n",
    "num =  int(input(\"enter the number\"))\n",
    "for i in range( 1, n+1):\n",
    "  print(n,\"x\",i , \"=\" , n*1)\n"
   ]
  },
  {
   "cell_type": "code",
   "execution_count": null,
   "metadata": {},
   "outputs": [],
   "source": []
  },
  {
   "cell_type": "code",
   "execution_count": null,
   "metadata": {},
   "outputs": [],
   "source": []
  },
  {
   "cell_type": "code",
   "execution_count": null,
   "metadata": {},
   "outputs": [],
   "source": []
  },
  {
   "cell_type": "code",
   "execution_count": null,
   "metadata": {},
   "outputs": [],
   "source": []
  }
 ],
 "metadata": {
  "kernelspec": {
   "display_name": "Python 3",
   "language": "python",
   "name": "python3"
  },
  "language_info": {
   "codemirror_mode": {
    "name": "ipython",
    "version": 3
   },
   "file_extension": ".py",
   "mimetype": "text/x-python",
   "name": "python",
   "nbconvert_exporter": "python",
   "pygments_lexer": "ipython3",
   "version": "3.8.3"
  }
 },
 "nbformat": 4,
 "nbformat_minor": 4
}
