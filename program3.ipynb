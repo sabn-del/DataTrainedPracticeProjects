{
 "cells": [
  {
   "cell_type": "code",
   "execution_count": 2,
   "metadata": {},
   "outputs": [
    {
     "name": "stdout",
     "output_type": "stream",
     "text": [
      "how many terms7\n",
      "fibonacci sequence\n",
      "0\n",
      "1\n",
      "1\n",
      "2\n",
      "3\n",
      "5\n",
      "8\n"
     ]
    }
   ],
   "source": [
    "#Python program to print the  fibinoacci series\n",
    "\n",
    "nterms = int(input(\"how many terms\"))\n",
    "n1, n2 = 0,1\n",
    "count = 0\n",
    "if nterms <= 0:\n",
    "    print(\"please enter a positive integer\")\n",
    "elif nterms== 0:\n",
    "    print(\"fibonacci sequence upto\",nterms)\n",
    "    print(n1)\n",
    "else:\n",
    "    print(\"fibonacci sequence\")\n",
    "while count< nterms:\n",
    "        print(n1)\n",
    "        nth= n1+n2\n",
    "        n1=n2\n",
    "        n2 = nth\n",
    "        count += 1"
   ]
  },
  {
   "cell_type": "code",
   "execution_count": 6,
   "metadata": {},
   "outputs": [
    {
     "name": "stdout",
     "output_type": "stream",
     "text": [
      "enter a stringsabna\n",
      "enter a characterb\n",
      "total number of times b has occured= 1\n"
     ]
    }
   ],
   "source": [
    "# python program to occurence of character in astring\n",
    "\n",
    "str = input(\"enter a string\")\n",
    "char = input(\"enter a character\")\n",
    "count = 0\n",
    "for i in range (len(str)):\n",
    "    if(str[i] == char):\n",
    "        count = count+1\n",
    "print(\"total number of times\", char,\"has occured=\",count)        "
   ]
  },
  {
   "cell_type": "code",
   "execution_count": 6,
   "metadata": {},
   "outputs": [
    {
     "name": "stdout",
     "output_type": "stream",
     "text": [
      "the string starts and end with the same character\n"
     ]
    }
   ],
   "source": [
    "# python program to check whether a string starts and end with the same character or not\n",
    "strn = \"malayalam\"\n",
    "if strn.startswith(\"m\") and strn.endswith(\"m\"):\n",
    "        print(\"the string starts and end with the same character\")\n",
    "else:\n",
    "        print(\"not same\")\n",
    "        "
   ]
  },
  {
   "cell_type": "code",
   "execution_count": 2,
   "metadata": {},
   "outputs": [
    {
     "name": "stdout",
     "output_type": "stream",
     "text": [
      "number of elemnts to the list5\n",
      "8\n",
      "9\n",
      "-3\n",
      "-2\n",
      "4\n",
      "positive element 8\n",
      "positive element 9\n",
      "negative element -3\n",
      "negative element -2\n",
      "positive element 4\n"
     ]
    }
   ],
   "source": [
    "# python program to print positive and negative number in a list\n",
    "n = int(input(\"number of elemnts to the list\"))\n",
    "a= []\n",
    "for i in range (1, n+1):\n",
    "    value=int(input())\n",
    "    a.append(value)\n",
    "for ele in a:\n",
    "        if(ele >= 0):\n",
    "            print(\"positive element\" , ele)\n",
    "        elif(ele < 0):\n",
    "            print(\"negative element\",ele)"
   ]
  },
  {
   "cell_type": "code",
   "execution_count": 4,
   "metadata": {},
   "outputs": [
    {
     "name": "stdout",
     "output_type": "stream",
     "text": [
      "*************************************************\n"
     ]
    }
   ],
   "source": [
    "def print_pattern(n):\n",
    "    for row in range(n):\n",
    "        for column in range(n):\n",
    "            if((row==0 and (column != 0 and coloumn != n-1))or (row= n-1 and(coloumn != 0 and coloumn != n-1))or (coloumn==0 and (row != 0and row != n-1)) \n",
    "            \n"
   ]
  },
  {
   "cell_type": "code",
   "execution_count": 14,
   "metadata": {},
   "outputs": [
    {
     "name": "stdout",
     "output_type": "stream",
     "text": [
      "enter a number3\n",
      "the number is prime 3\n"
     ]
    }
   ],
   "source": [
    "# python program to print prime numbers\n",
    "num = int(input (\"enter a number\"))\n",
    "if(num>1):          \n",
    "     for i in range(2,num):\n",
    "        if(num % 2==0):\n",
    "          print(\"the number is not prime\", num)\n",
    "        else:           \n",
    "            print(\"the number is prime\",num)     "
   ]
  },
  {
   "cell_type": "code",
   "execution_count": 24,
   "metadata": {},
   "outputs": [
    {
     "name": "stdout",
     "output_type": "stream",
     "text": [
      "* * * * * * * * * * * * * * * * * * * * * * * * * \n",
      "\n"
     ]
    }
   ],
   "source": [
    "row =5\n",
    "coloumn =5\n",
    "for i in range(0,row):\n",
    "    for j in range(0,coloumn):\n",
    "        print(\"*\", end =' ')\n",
    "print('\\n')   \n",
    "            "
   ]
  },
  {
   "cell_type": "code",
   "execution_count": null,
   "metadata": {},
   "outputs": [],
   "source": [
    "j = 0\n",
    "while j<10:\n",
    "    i = 0\n",
    "    while i<10:\n",
    "        print(\"*\", end=' ')\n",
    "        i +=1\n",
    "print(\"/n\" , end =' ')\n",
    "j += 1 "
   ]
  },
  {
   "cell_type": "code",
   "execution_count": 4,
   "metadata": {},
   "outputs": [
    {
     "name": "stdout",
     "output_type": "stream",
     "text": [
      "enter a stringsabna\n",
      "SABNA\n"
     ]
    }
   ],
   "source": [
    "#python program  to convert atring into uppercase.\n",
    "str = input(\"enter a string\")\n",
    "print(str .upper())"
   ]
  },
  {
   "cell_type": "code",
   "execution_count": 2,
   "metadata": {},
   "outputs": [
    {
     "name": "stdout",
     "output_type": "stream",
     "text": [
      "* * * * * \r\n",
      "* * * * * \r\n",
      "* * * * * \r\n",
      "* * * * * \r\n",
      "* * * * * \r\n"
     ]
    }
   ],
   "source": [
    "#python program to print the pattern\n",
    "def pypattern(n):\n",
    "    \n",
    "    k= n-1\n",
    "    for i in range(0,n):\n",
    "        for j in range(0,k):\n",
    "            print(\"*\",end = \" \")\n",
    "        k = k-1  \n",
    "        for j in range (0,i+1):\n",
    "            print(\"*\",end =\" \")\n",
    "        print(\"\\r\")   \n",
    "n= 5\n",
    "pypattern(n)\n",
    "            "
   ]
  },
  {
   "cell_type": "code",
   "execution_count": 4,
   "metadata": {},
   "outputs": [
    {
     "name": "stdout",
     "output_type": "stream",
     "text": [
      "    5 5 5 5 5 5 /r\n",
      "   5 5 5 5 5 5 /r\n",
      "  5 5 5 5 5 5 /r\n",
      " 5 5 5 5 5 5 /r\n",
      "5 5 5 5 5 5 /r\n"
     ]
    }
   ],
   "source": [
    "def  triangle(num): \n",
    "    k= num-1\n",
    "    for i in range(0,num):\n",
    "        for j in range(0,k):\n",
    "            print(end =\" \")\n",
    "           \n",
    "        k = k-1\n",
    "        for j in range(0,num+1):\n",
    "            print(num,end = \" \")\n",
    "            \n",
    "        print(\"/r\")\n",
    "num =5\n",
    "triangle(num)"
   ]
  },
  {
   "cell_type": "code",
   "execution_count": 7,
   "metadata": {},
   "outputs": [
    {
     "name": "stdout",
     "output_type": "stream",
     "text": [
      "1 /n\n",
      "3 4 /n\n",
      "6 7 8 /n\n",
      "10 11 12 13 /n\n",
      "15 16 17 18 19 /n\n"
     ]
    }
   ],
   "source": [
    "def numpat(n):\n",
    "    num =0\n",
    "    for i in range(0,n):\n",
    "        for j in range(0,i+1):\n",
    "            num = num+1\n",
    "            print(num, end = \" \")\n",
    "        num = num+1\n",
    "        print(\"/n\")\n",
    "    \n",
    "n= 5\n",
    "numpat(n)\n",
    "        "
   ]
  },
  {
   "cell_type": "code",
   "execution_count": null,
   "metadata": {},
   "outputs": [],
   "source": [
    "rows = int(input(\"enter the number of rows\"))\n",
    "k = 0\n",
    "count =0\n",
    "count1 =0\n",
    "for  i in range(1,rows+1):\n",
    "    for space in range(1,(rows-i)+1):\n",
    "        print(end=\" \")\n",
    "        count = count+1\n",
    "    while k!=((2*i) -1):\n",
    "        if count <= rows-1:\n",
    "            print(i+k,end = \" \")\n",
    "count1 = count = k\n",
    "print()\n",
    "    \n",
    "    "
   ]
  },
  {
   "cell_type": "code",
   "execution_count": 6,
   "metadata": {},
   "outputs": [
    {
     "ename": "NameError",
     "evalue": "name 'list_1' is not defined",
     "output_type": "error",
     "traceback": [
      "\u001b[1;31m---------------------------------------------------------------------------\u001b[0m",
      "\u001b[1;31mNameError\u001b[0m                                 Traceback (most recent call last)",
      "\u001b[1;32m<ipython-input-6-67c9b78a2633>\u001b[0m in \u001b[0;36m<module>\u001b[1;34m\u001b[0m\n\u001b[0;32m      3\u001b[0m     \u001b[0mlist_1\u001b[0m \u001b[1;33m=\u001b[0m \u001b[1;33m[\u001b[0m\u001b[0ma\u001b[0m\u001b[1;33m,\u001b[0m\u001b[0mb\u001b[0m\u001b[1;33m,\u001b[0m\u001b[0mc\u001b[0m\u001b[1;33m,\u001b[0m\u001b[0md\u001b[0m\u001b[1;33m]\u001b[0m\u001b[1;33m\u001b[0m\u001b[1;33m\u001b[0m\u001b[0m\n\u001b[0;32m      4\u001b[0m     \u001b[0mlist_2\u001b[0m \u001b[1;33m=\u001b[0m \u001b[1;33m[\u001b[0m\u001b[0mb\u001b[0m\u001b[1;33m,\u001b[0m\u001b[0mc\u001b[0m\u001b[1;33m,\u001b[0m\u001b[0mf\u001b[0m\u001b[1;33m,\u001b[0m\u001b[0mg\u001b[0m\u001b[1;33m]\u001b[0m\u001b[1;33m\u001b[0m\u001b[1;33m\u001b[0m\u001b[0m\n\u001b[1;32m----> 5\u001b[1;33m \u001b[1;32mfor\u001b[0m \u001b[0mi\u001b[0m \u001b[1;32min\u001b[0m  \u001b[0mlist_1\u001b[0m\u001b[1;33m:\u001b[0m\u001b[1;33m\u001b[0m\u001b[1;33m\u001b[0m\u001b[0m\n\u001b[0m\u001b[0;32m      6\u001b[0m     \u001b[1;32mfor\u001b[0m \u001b[0mj\u001b[0m \u001b[1;32min\u001b[0m \u001b[0mlist_2\u001b[0m\u001b[1;33m:\u001b[0m\u001b[1;33m\u001b[0m\u001b[1;33m\u001b[0m\u001b[0m\n\u001b[0;32m      7\u001b[0m         \u001b[1;32mif\u001b[0m \u001b[0mi\u001b[0m\u001b[1;33m==\u001b[0m\u001b[0mj\u001b[0m\u001b[1;33m:\u001b[0m\u001b[1;33m\u001b[0m\u001b[1;33m\u001b[0m\u001b[0m\n",
      "\u001b[1;31mNameError\u001b[0m: name 'list_1' is not defined"
     ]
    }
   ],
   "source": [
    "# python program to check if two list have at-least one element common\n",
    "def common_elements(list_1,list_2):\n",
    "    list_1 = [a,b,c,d]\n",
    "    list_2 = [b,c,f,g] \n",
    "for i in  list_1:\n",
    "    for j in list_2:\n",
    "        if i==j:\n",
    "            print(\"are elements common between list_one and list_two\")\n",
    "            print(common_elements(list_one,list_two))\n",
    "   \n",
    "        "
   ]
  },
  {
   "cell_type": "code",
   "execution_count": 15,
   "metadata": {},
   "outputs": [
    {
     "name": "stdout",
     "output_type": "stream",
     "text": [
      "enter the number of elemnts in the list4\n",
      "enter number of elements20\n",
      "enter number of elements30\n",
      "enter number of elements40\n",
      "enter number of elements50\n",
      "second largest element 40\n"
     ]
    }
   ],
   "source": [
    "# python program to find second largest number in a list\n",
    "n = int(input (\"enter the number of elemnts in the list\" ))\n",
    "b = []\n",
    "for i in range(1,n+1):\n",
    "        a= input(\"enter number of elements\")\n",
    "        b.append(a)\n",
    "b.sort()\n",
    "print(\"second largest element\",b[n-2])               "
   ]
  },
  {
   "cell_type": "code",
   "execution_count": 19,
   "metadata": {},
   "outputs": [
    {
     "name": "stdout",
     "output_type": "stream",
     "text": [
      "{'abu': 11, 'ammu': 20, 'minnu': 37}\n"
     ]
    }
   ],
   "source": [
    "# python program to convert list to list of dictionaries.\n",
    "def listtoDict(lstA,lstB):\n",
    "    zippedlist= zip(lstA,lstB)\n",
    "    op = dict(zippedlist)\n",
    "    return op\n",
    "lststr= ['abu','ammu','minnu']\n",
    "lstint = [11,20,37,50]\n",
    "print(listtoDict(lststr,lstint))"
   ]
  },
  {
   "cell_type": "code",
   "execution_count": 11,
   "metadata": {},
   "outputs": [
    {
     "name": "stdout",
     "output_type": "stream",
     "text": [
      "enter the first string:abnd\n",
      "enter the second string:ciut\n",
      "number of matching chatacters are 0\n"
     ]
    }
   ],
   "source": [
    "# python program  to count the number of matching characters in a pair of string.\n",
    "str1 = input(\"enter the first string:\")\n",
    "str2 = input(\"enter the second string:\")\n",
    "count = 0\n",
    "j=0\n",
    "for i in  str1:\n",
    "    if str2.find(i)>= 0 and j== str1.find(i):\n",
    "        count = count+1\n",
    "        j = j+1\n",
    "print(\"number of matching chatacters are\", count)        \n",
    "        \n",
    "\n"
   ]
  },
  {
   "cell_type": "code",
   "execution_count": 2,
   "metadata": {},
   "outputs": [
    {
     "name": "stdout",
     "output_type": "stream",
     "text": [
      "34,89. 45\n"
     ]
    }
   ],
   "source": [
    "# python program to swap commas and dots in a string.\n",
    "amount = '34.89, 45'\n",
    "maketrans = amount.maketrans\n",
    "amount= amount.translate(maketrans(',.' , '.,'))\n",
    "print(amount)"
   ]
  },
  {
   "cell_type": "code",
   "execution_count": 7,
   "metadata": {},
   "outputs": [
    {
     "name": "stdout",
     "output_type": "stream",
     "text": [
      "[1, 2, 3, 5, 6]\n",
      "[(1, 2), (2, 1), (3, 4), (5, 6), (6, 5)]\n"
     ]
    }
   ],
   "source": [
    "# python program to sort python dictionaries by key or value.\n",
    "a = {1:2,2:1,3:4,6:5,5:6}\n",
    "print(sorted(a.keys()))\n",
    "print(sorted(a.items()))"
   ]
  },
  {
   "cell_type": "code",
   "execution_count": null,
   "metadata": {},
   "outputs": [],
   "source": [
    "# python program remove all duplicates words from a given sentence.\n",
    "def remov_duplicates(input):\n",
    "    input =input.split(\" \")\n",
    "    for i in range(0,len(input)):\n",
    "        input[i] = \" \".join(input[i])\n",
    "        uniqw = counter(input)\n",
    "        s = \" \".join(uniqw.keys())\n",
    "        print(s)\n",
    "    input = 'python is great and java is also great'\n",
    "    remov_duplicates(input)"
   ]
  },
  {
   "cell_type": "code",
   "execution_count": null,
   "metadata": {},
   "outputs": [],
   "source": []
  },
  {
   "cell_type": "code",
   "execution_count": null,
   "metadata": {},
   "outputs": [],
   "source": []
  }
 ],
 "metadata": {
  "kernelspec": {
   "display_name": "Python 3",
   "language": "python",
   "name": "python3"
  },
  "language_info": {
   "codemirror_mode": {
    "name": "ipython",
    "version": 3
   },
   "file_extension": ".py",
   "mimetype": "text/x-python",
   "name": "python",
   "nbconvert_exporter": "python",
   "pygments_lexer": "ipython3",
   "version": "3.8.3"
  }
 },
 "nbformat": 4,
 "nbformat_minor": 4
}
