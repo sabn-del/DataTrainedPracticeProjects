{
 "cells": [
  {
   "cell_type": "code",
   "execution_count": 1,
   "metadata": {},
   "outputs": [
    {
     "name": "stdout",
     "output_type": "stream",
     "text": [
      "enter a number2\n",
      "computed value 14\n"
     ]
    }
   ],
   "source": [
    "num = int(input(\"enter a number\"))\n",
    "a = num + num*num + num*num*num\n",
    "print(\"computed value\" , a)"
   ]
  },
  {
   "cell_type": "code",
   "execution_count": 2,
   "metadata": {},
   "outputs": [
    {
     "name": "stdout",
     "output_type": "stream",
     "text": [
      "Enter a number:8\n",
      "1+2+3+4+5+6+7+8= 36\n",
      "\n"
     ]
    }
   ],
   "source": [
    "n = int(input(\"Enter a number:\"))\n",
    "a = []\n",
    "for i in range(1, n + 1):\n",
    "    print(i, sep=\"\" , end=\"\")\n",
    "    if i < n:\n",
    "        print(\"+\",sep= \"\" , end= \"\")\n",
    "    a.append(i)\n",
    "print(\"=\" , sum(a))\n",
    "print()"
   ]
  },
  {
   "cell_type": "code",
   "execution_count": 2,
   "metadata": {},
   "outputs": [
    {
     "ename": "SyntaxError",
     "evalue": "invalid syntax (<ipython-input-2-31a13630571d>, line 4)",
     "output_type": "error",
     "traceback": [
      "\u001b[1;36m  File \u001b[1;32m\"<ipython-input-2-31a13630571d>\"\u001b[1;36m, line \u001b[1;32m4\u001b[0m\n\u001b[1;33m    for j in range (1 , n + 1):\u001b[0m\n\u001b[1;37m                              ^\u001b[0m\n\u001b[1;31mSyntaxError\u001b[0m\u001b[1;31m:\u001b[0m invalid syntax\n"
     ]
    }
   ],
   "source": [
    "# to read a number n and print the natural number summation pattern\n",
    "\n",
    "n = int((input(\"Enter a nymber:\"))\n",
    "for j in range (1 , n + 1):\n",
    "      a = []\n",
    "    \n",
    "      for i in range(1 , j + 1):\n",
    "           print(i,   end= \" \")\n",
    "           if (i < j):\n",
    "             print(\"+\" ,   end= \" )\n",
    "           a.append(i)        \n",
    "      print(\"=\" , sum(a))\n",
    "print()                   \n",
    "        "
   ]
  },
  {
   "cell_type": "code",
   "execution_count": 1,
   "metadata": {},
   "outputs": [
    {
     "name": "stdout",
     "output_type": "stream",
     "text": [
      "Enter a number:4\n",
      "1 0 0 0 \n",
      "0 1 0 0 \n",
      "0 0 1 0 \n",
      "0 0 0 1 \n"
     ]
    }
   ],
   "source": [
    "# to  print an identity matrix\n",
    "n = int(input(\"Enter a number:\"))\n",
    "for i in range(0,n ):\n",
    "    for j in range(0 , n):\n",
    "        if(i==j):\n",
    "            print(\"1\" ,  end= \" \")\n",
    "        else:\n",
    "            print(\"0\" ,  end= \" \")\n",
    "    print()\n",
    "            \n",
    "        \n",
    "    "
   ]
  },
  {
   "cell_type": "code",
   "execution_count": 3,
   "metadata": {},
   "outputs": [
    {
     "name": "stdout",
     "output_type": "stream",
     "text": [
      "enter number6\n",
      "******\n",
      " *****\n",
      "  ****\n",
      "   ***\n",
      "    **\n",
      "     *\n"
     ]
    }
   ],
   "source": [
    "# to print inverted star\n",
    "\n",
    "n = int(input(\"enter number\"))\n",
    "for i in range(n, 0, -1):\n",
    "    print((n - i) * ' ' +  i * '*')\n",
    "    "
   ]
  },
  {
   "cell_type": "code",
   "execution_count": null,
   "metadata": {},
   "outputs": [
    {
     "name": "stdout",
     "output_type": "stream",
     "text": [
      "enter the mark in maths67\n",
      "enter the mark in chemicstry45\n"
     ]
    }
   ],
   "source": [
    "### programs to take the mark of 5 subjects and display the grade\n",
    "\n",
    "sub1 = int(input(\"enter the mark in maths\"))\n",
    "sub2 = int(input(\"enter the mark in chemicstry\"))\n",
    "sub3 = int(input(\"enter the mark in physics\"))\n",
    "sub4 = int(input(\"enter the mark in biology\"))\n",
    "sub5 = int(input(\"enter the mark in english\"))\n",
    "avg = (sub1+sub2+sub3+sub4+sub5  ) / 5\n",
    "print(\"average:\" , avg)\n",
    "if avg > 90:\n",
    "    print(\"grade: A+\")\n",
    "elif avg > 80:\n",
    "    print(\"grade: A\")\n",
    "elif avg > 70:\n",
    "    print(\"grade: B\")\n",
    "elif avg > 60:\n",
    "    print(\"grade: C\")\n",
    "elif avg > 50:\n",
    "    print(\"grade: D\")\n",
    "elif avg > 40:\n",
    "    print(\"grade: E\")  \n",
    "elif avg < 40:\n",
    "          print(\"failed\")\n",
    "    "
   ]
  },
  {
   "cell_type": "code",
   "execution_count": null,
   "metadata": {},
   "outputs": [],
   "source": []
  },
  {
   "cell_type": "code",
   "execution_count": null,
   "metadata": {},
   "outputs": [],
   "source": []
  },
  {
   "cell_type": "code",
   "execution_count": null,
   "metadata": {},
   "outputs": [],
   "source": []
  },
  {
   "cell_type": "code",
   "execution_count": null,
   "metadata": {},
   "outputs": [],
   "source": []
  },
  {
   "cell_type": "code",
   "execution_count": null,
   "metadata": {},
   "outputs": [],
   "source": []
  },
  {
   "cell_type": "code",
   "execution_count": null,
   "metadata": {},
   "outputs": [],
   "source": []
  }
 ],
 "metadata": {
  "kernelspec": {
   "display_name": "Python 3",
   "language": "python",
   "name": "python3"
  },
  "language_info": {
   "codemirror_mode": {
    "name": "ipython",
    "version": 3
   },
   "file_extension": ".py",
   "mimetype": "text/x-python",
   "name": "python",
   "nbconvert_exporter": "python",
   "pygments_lexer": "ipython3",
   "version": "3.8.3"
  }
 },
 "nbformat": 4,
 "nbformat_minor": 4
}
