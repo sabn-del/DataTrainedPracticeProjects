{
 "cells": [
  {
   "cell_type": "code",
   "execution_count": 5,
   "metadata": {},
   "outputs": [
    {
     "name": "stdout",
     "output_type": "stream",
     "text": [
      "enter a number4\n",
      "1 + 2 + 3 + 4 = 10\n",
      "\n"
     ]
    }
   ],
   "source": [
    "# read a number n and print and compute the series\n",
    "n = int(input(\"enter a number\"))\n",
    "a = []\n",
    "for i in range (1 ,n+1):\n",
    "    print(i,sep = \" \" , end =\" \")\n",
    "    if(i<n):\n",
    "        print(\"+\" , sep = \" \" , end = \" \")\n",
    "    a.append(i)\n",
    "        \n",
    "print(\"=\" , sum(a))\n",
    "print()       \n",
    "        "
   ]
  },
  {
   "cell_type": "code",
   "execution_count": 27,
   "metadata": {},
   "outputs": [
    {
     "name": "stdout",
     "output_type": "stream",
     "text": [
      "enter a number3\n",
      "3 number is  a prime\n",
      "enter the lower range :2\n",
      "enter the upper range :20\n",
      "2\n",
      "3\n",
      "5\n",
      "7\n",
      "11\n",
      "13\n",
      "17\n",
      "19\n"
     ]
    }
   ],
   "source": [
    "#python program to check if a number is a prime number print the all prime numbers in a fiven range\n",
    "n = int(input(\"enter a number\"))\n",
    "if(n>1):\n",
    "    for i in range(2 , n):\n",
    "        if(n % i == 0):\n",
    "            print( n,\" number is not a prime number\" )\n",
    "        else:\n",
    "            print(n,\"number is  a prime\")\n",
    "lower = int(input(\"enter the lower range :\"))\n",
    "upper = int(input(\"enter the upper range :\"))\n",
    "for n in range(lower,upper +1):\n",
    "    if (n>1):\n",
    "        for i in range(2,n):\n",
    "            if(n% i == 0):\n",
    "                break\n",
    "        else:        \n",
    "                print(n)\n",
    "\n",
    "        "
   ]
  },
  {
   "cell_type": "code",
   "execution_count": null,
   "metadata": {},
   "outputs": [],
   "source": [
    "# python pgm to count the number of vowels present ina string using set\n",
    "def vowel_count(str):\n",
    "    count = 0\n",
    "    vowels = set(\"aeiouAEIOU\")\n",
    "    for alphabet in str:\n",
    "        if alphabet in vowels:\n",
    "            count =count+ 1\n",
    "    print(\"number of vowels\",count) \n",
    "str = \"hello world\"\n",
    "vowel_count(str)\n"
   ]
  },
  {
   "cell_type": "code",
   "execution_count": 28,
   "metadata": {},
   "outputs": [
    {
     "name": "stdout",
     "output_type": "stream",
     "text": [
      "enter the number of elements to the list4\n",
      "element: 6\n",
      "element: 7\n",
      "element: 2\n",
      "element: 9\n",
      "largest even number 2\n",
      "largest odd number 3\n"
     ]
    }
   ],
   "source": [
    "### python program to print largesteb=ven and largest odd number in a list\n",
    "\n",
    "n= int(input(\"enter the number of elements to the list\"))\n",
    "b = []\n",
    "for i in range(0, n):\n",
    "    a= int(input(\"element: \"))\n",
    "    b.append(i)\n",
    "c =[]\n",
    "d =[]\n",
    "for i in b:\n",
    "    if(i%2 ==0):\n",
    "        c.append(i)\n",
    "    else:\n",
    "         d.append(i)\n",
    "c.sort()\n",
    "d.sort()\n",
    "count1 = 0\n",
    "count2 =0\n",
    "for k in c:\n",
    "    count1 = count1+1\n",
    "for j in d:\n",
    "    count2 = count2+1\n",
    "print(\"largest even number\" , c[count1-1])\n",
    "print(\"largest odd number\", d[count2 -1])"
   ]
  },
  {
   "cell_type": "code",
   "execution_count": 1,
   "metadata": {},
   "outputs": [
    {
     "name": "stdout",
     "output_type": "stream",
     "text": [
      "Enter a number125\n",
      "125 the number is  not amstrong\n"
     ]
    }
   ],
   "source": [
    "# python program  to check if a number is an amstrong number\n",
    "num = int(input(\"Enter a number\"))\n",
    "sum =0\n",
    "temp = num\n",
    "while (temp>0):\n",
    "    dig = num %10\n",
    "    sum  += dig ** 3\n",
    "    temp //= 10\n",
    "if (num == sum):\n",
    "        print(num, \"the number is a amstrong number\")\n",
    "else:\n",
    "        print(num,\"the number is  not amstrong\")"
   ]
  },
  {
   "cell_type": "code",
   "execution_count": 1,
   "metadata": {},
   "outputs": [
    {
     "name": "stdout",
     "output_type": "stream",
     "text": [
      "['c', 'b', 'a']\n"
     ]
    }
   ],
   "source": [
    "# python program to swap two elements in a list\n",
    "a_list =[\"a\",\"b\",\"c\"]\n",
    "a_list[0],a_list[2] = a_list[2],a_list[0]\n",
    "print(a_list)\n"
   ]
  },
  {
   "cell_type": "code",
   "execution_count": 2,
   "metadata": {},
   "outputs": [
    {
     "name": "stdout",
     "output_type": "stream",
     "text": [
      "enter the elements in the llist3\n",
      "please enter the value of the element4\n",
      "please enter the value of the element5\n",
      "please enter the value of the element6\n",
      "list before swapping [4, 5, 6]\n",
      "enter the position of element,want to swap6\n",
      "enter the position of element, want to swap4\n",
      "list after swaping\n",
      "[4, 5, 6]\n"
     ]
    }
   ],
   "source": [
    "a_list= []\n",
    "num = int(input(\"enter the elements in the llist\"))\n",
    "for i in range(1,num+1):\n",
    "    value = int(input(\"please enter the value of the element\"))\n",
    "    a_list.append(value)\n",
    "print(\"list before swapping\", a_list)\n",
    "position1 = int(input(\"enter the position of element,want to swap\"))\n",
    "position2 = int(input(\"enter the position of element, want to swap\"))\n",
    "def swapPositions(list,pos1,pos2):\n",
    "    return list\n",
    "print(\"list after swaping\")\n",
    "print(a_list)"
   ]
  },
  {
   "cell_type": "code",
   "execution_count": 3,
   "metadata": {},
   "outputs": [
    {
     "name": "stdout",
     "output_type": "stream",
     "text": [
      "enter a number10\n",
      "the factorial of 10 is 1\n",
      "the factorial of 10 is 2\n",
      "the factorial of 10 is 6\n",
      "the factorial of 10 is 24\n",
      "the factorial of 10 is 120\n",
      "the factorial of 10 is 720\n",
      "the factorial of 10 is 5040\n",
      "the factorial of 10 is 40320\n",
      "the factorial of 10 is 362880\n",
      "the factorial of 10 is 3628800\n"
     ]
    }
   ],
   "source": [
    "#### python program to factorial of a number\n",
    "num = int(input(\"enter a number\"))\n",
    "factorial = 1\n",
    "if num < 0:\n",
    "    print(\"factorial doesnot exist for negative numbers\")\n",
    "elif num == 0:\n",
    "    print(\"factorial of 0 is always one\")\n",
    "else:\n",
    "    for i in range(1,num + 1):\n",
    "        factorial = factorial*i\n",
    "        print(\"the factorial of\",num,\"is\",factorial)   "
   ]
  },
  {
   "cell_type": "code",
   "execution_count": 4,
   "metadata": {},
   "outputs": [
    {
     "name": "stdout",
     "output_type": "stream",
     "text": [
      "enter the no of rows4\n",
      "* \n",
      "\n",
      "* * \n",
      "\n",
      "* * * \n",
      "\n",
      "* * * * \n",
      "\n"
     ]
    }
   ],
   "source": [
    "#python program to print patterns\n",
    "rows = int(input(\"enter the no of rows\"))\n",
    "for i in range (rows):\n",
    "    for j in range(i+1):\n",
    "        print(\"*\", end =\" \")\n",
    "    print(\"\\n\")    \n",
    "    "
   ]
  },
  {
   "cell_type": "code",
   "execution_count": 14,
   "metadata": {},
   "outputs": [
    {
     "name": "stdout",
     "output_type": "stream",
     "text": [
      "enter the number of rows4\n",
      "   * \n",
      "  * * * \n",
      " * * * * * \n",
      "* * * * * * * \n"
     ]
    }
   ],
   "source": [
    "# python pgm to print  the pyramid\n",
    "rows =  int(input(\"enter the number of rows\"))\n",
    "k = 0\n",
    "for i in range(1,rows+1):\n",
    "    for space in range(1,(rows-i)+1):\n",
    "        print( end =\" \")\n",
    "    while k!=(2*i-1):\n",
    "        print(\"*\",end = \" \")\n",
    "        k += 1\n",
    "    k=0      \n",
    "    print()       "
   ]
  },
  {
   "cell_type": "code",
   "execution_count": 7,
   "metadata": {},
   "outputs": [
    {
     "name": "stdout",
     "output_type": "stream",
     "text": [
      "the key is not present\n"
     ]
    }
   ],
   "source": [
    "# python program to check if akey is already present in the dictionary\n",
    "def checkKey(dict,key):\n",
    "        if key in dict.keys():\n",
    "            print(\"presnt\")\n",
    "        else:   \n",
    "            print(\"the key is not present\")\n",
    "dict = {'a':100,'b':60, 'c':80}\n",
    "key ='w'\n",
    "checkKey(dict,key)"
   ]
  },
  {
   "cell_type": "code",
   "execution_count": null,
   "metadata": {},
   "outputs": [],
   "source": []
  }
 ],
 "metadata": {
  "kernelspec": {
   "display_name": "Python 3",
   "language": "python",
   "name": "python3"
  },
  "language_info": {
   "codemirror_mode": {
    "name": "ipython",
    "version": 3
   },
   "file_extension": ".py",
   "mimetype": "text/x-python",
   "name": "python",
   "nbconvert_exporter": "python",
   "pygments_lexer": "ipython3",
   "version": "3.8.3"
  }
 },
 "nbformat": 4,
 "nbformat_minor": 4
}
