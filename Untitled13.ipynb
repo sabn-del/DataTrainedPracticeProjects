{
 "cells": [
  {
   "cell_type": "code",
   "execution_count": null,
   "metadata": {},
   "outputs": [],
   "source": [
    "#write a program toaccept 2 numbers and do the arithematic operations according to users to wish.\n",
    "def add(a,b):\n",
    "    return a+b\n",
    "def  sub(a,b):\n",
    "    return a-b\n",
    "def  mul(a,b):\n",
    "    return a*b\n",
    "def  div(a,b):\n",
    "    return a/b\n",
    "while True:\n",
    "    choice= input(\"enter choice 1/2/3/4\")\n",
    "    num1= int(input(\"enter first number\"))\n",
    "    num2 = int(input(\"enter asecond number\"))\n",
    "if choice == '1':\n",
    "    print(num1,\"+\",num2,\"=\", add(num1,num2))\n",
    "elif choice == '2':\n",
    "     print(num1,\"-\",num2,\"=\", sub(num1,num2))  \n",
    "elif  choice == '3':\n",
    "       print(num1,\"*\",num2,\"=\", mul(num1,num2))\n",
    "elif  choice== '4':\n",
    "    print(num1,\"/\",num2,\"=\", div(num1,num2))\n",
    "else:\n",
    "     print(\"invalid input\") "
   ]
  },
  {
   "cell_type": "code",
   "execution_count": null,
   "metadata": {},
   "outputs": [],
   "source": [
    "# write a program to display the count of even no's and odd no's between 1 and 20\n",
    "odd= 0\n",
    "even = 0\n",
    "for  i in range (1,21):\n",
    "    if(i%2 ==0):\n",
    "        \n",
    "        even = even+1\n",
    "    else :  \n",
    "        odd = odd +1\n",
    "print(\"number of even number is:\",even )\n",
    "print(\"number of odd number is:\",odd)"
   ]
  },
  {
   "cell_type": "code",
   "execution_count": 4,
   "metadata": {},
   "outputs": [
    {
     "name": "stdout",
     "output_type": "stream",
     "text": [
      "enter the array element\n",
      "10\n",
      "2\n",
      "5\n",
      "40\n",
      "50\n",
      "30\n",
      "8\n",
      "90\n",
      "30\n",
      "sorted array is [2, 5, 8, 10, 30, 30, 40, 50, 90]\n"
     ]
    }
   ],
   "source": [
    "# write a program to sort an integer array with size10\n",
    "array =[]\n",
    "print(\"enter the array element\")\n",
    "for i in range(1,10):\n",
    "    array.append(int(input()))\n",
    "    array.sort()\n",
    "print(\"sorted array is\", array)    "
   ]
  },
  {
   "cell_type": "code",
   "execution_count": 7,
   "metadata": {},
   "outputs": [
    {
     "name": "stdout",
     "output_type": "stream",
     "text": [
      "enter a number400\n",
      "number is greater than 100 and evn number 400\n"
     ]
    }
   ],
   "source": [
    "# write a program to display a no if it is greater than 100 and it is an even no\n",
    "\n",
    "n= int(input(\"enter a number\"))\n",
    "if n> 100 and n%2==0:\n",
    "     print(\"number is greater than 100 and evn number\",n)    "
   ]
  },
  {
   "cell_type": "code",
   "execution_count": null,
   "metadata": {},
   "outputs": [],
   "source": []
  },
  {
   "cell_type": "code",
   "execution_count": 3,
   "metadata": {},
   "outputs": [
    {
     "name": "stdout",
     "output_type": "stream",
     "text": [
      "name appu\n",
      "age 20\n"
     ]
    }
   ],
   "source": [
    "#create  a function that can accept two arguments name and age and print its value\n",
    "def person(name,age):\n",
    "    print(\"name\",name)\n",
    "    print(\"age\",age)\n",
    "person(\"appu\",20)    "
   ]
  },
  {
   "cell_type": "code",
   "execution_count": 6,
   "metadata": {},
   "outputs": [
    {
     "name": "stdout",
     "output_type": "stream",
     "text": [
      "[4, 6, 8, 10, 12, 14, 16, 18, 20, 22, 24, 26, 28]\n"
     ]
    }
   ],
   "source": [
    "# generate a python list of all the even numbers between 4 to 30\n",
    "list = []\n",
    "for i in range (4,30) :\n",
    "    if i%2 == 0:\n",
    "        list.append(i) \n",
    "print(list)    "
   ]
  },
  {
   "cell_type": "code",
   "execution_count": 9,
   "metadata": {},
   "outputs": [
    {
     "name": "stdout",
     "output_type": "stream",
     "text": [
      "['ammu', 'appu', 'anu', {'c', 'u', 'a', 'h'}]\n"
     ]
    }
   ],
   "source": [
    "# add a list of elements to a given set\n",
    "\n",
    "list = ['ammu','appu','anu']\n",
    "list.append(set('achu'))\n",
    "print(list)"
   ]
  },
  {
   "cell_type": "code",
   "execution_count": 12,
   "metadata": {},
   "outputs": [
    {
     "name": "stdout",
     "output_type": "stream",
     "text": [
      "enter the length of the list4\n",
      "1\n",
      "2\n",
      "3\n",
      "4\n",
      "[1, 2, 3, 4]\n",
      "{1, 2, 3, 4}\n"
     ]
    }
   ],
   "source": [
    "list1 = []\n",
    "set1 = set()\n",
    "n= int(input(\"enter the length of the list\"))\n",
    "for i in range(n):\n",
    "    list1.append(int(input()))\n",
    "print(list1)  \n",
    "for i in list1:\n",
    "    set1.add(i)\n",
    "print(set1)    "
   ]
  },
  {
   "cell_type": "code",
   "execution_count": 15,
   "metadata": {
    "scrolled": true
   },
   "outputs": [
    {
     "name": "stdout",
     "output_type": "stream",
     "text": [
      "{1, 2, 3, 4, 5, 6}\n"
     ]
    }
   ],
   "source": [
    "# returns a new set with all items from both set by removing duplicates\n",
    "set1 = {1,2,3,4}\n",
    "set2 = {3,4,5,6}\n",
    "set3=set1.union(set2)\n",
    "print(set3)"
   ]
  },
  {
   "cell_type": "code",
   "execution_count": 29,
   "metadata": {},
   "outputs": [
    {
     "name": "stdout",
     "output_type": "stream",
     "text": [
      "enter the length of the element4\n",
      "1\n",
      "2\n",
      "3\n",
      "1\n",
      "true\n"
     ]
    }
   ],
   "source": [
    "# given a list of numbers,return true if first and last number of list is same\n",
    "\n",
    "list1 = []\n",
    "n=int(input(\"enter the length of the element\"))\n",
    "for i in range (n):\n",
    "       list1.append(int(input()))\n",
    "if(list1[0] == list1[-1]):\n",
    "       print(\"true\")\n",
    "else:\n",
    "    print(\"false\") "
   ]
  },
  {
   "cell_type": "code",
   "execution_count": 31,
   "metadata": {},
   "outputs": [
    {
     "name": "stdout",
     "output_type": "stream",
     "text": [
      "enter the length of the list4\n",
      "50\n",
      "40\n",
      "29\n",
      "48\n",
      "[50, 40, 29, 48]\n",
      "50\n",
      "40\n"
     ]
    }
   ],
   "source": [
    "# given a list of numbers,iterate it and print only those numbers which are divisible of 5\n",
    "list1 = []\n",
    "n= int(input(\"enter the length of the list\"))\n",
    "for i in range(n):\n",
    "    list1.append(int(input()))\n",
    "print(list1)  \n",
    "for i in list1:\n",
    "    if (i%5 == 0):\n",
    "        print(i)        "
   ]
  },
  {
   "cell_type": "code",
   "execution_count": 35,
   "metadata": {},
   "outputs": [
    {
     "name": "stdout",
     "output_type": "stream",
     "text": [
      "enter the number of integers5\n",
      "1\n",
      "5\n",
      "7\n",
      "11\n",
      "13\n",
      "17\n",
      "19\n",
      "23\n",
      "25\n",
      "29\n",
      "31\n",
      "35\n",
      "37\n",
      "41\n",
      "43\n",
      "47\n",
      "49\n"
     ]
    }
   ],
   "source": [
    "# python program to print all integers that aren't divisible by either 2 or 3 and lie between 1 and 50\n",
    "\n",
    "n = int(input(\"enter the number of integers\"))\n",
    "for i in range(1,50):\n",
    "    if(i%2 !=0  and i%3 !=0):\n",
    "        print(i)"
   ]
  },
  {
   "cell_type": "code",
   "execution_count": null,
   "metadata": {},
   "outputs": [],
   "source": [
    "# python program to take in the mark of five subject and display  the grade\n",
    "\n",
    "sub1 = int(input(\"enter the mark of maths\"))\n",
    "sub2 = int(input(\"enter the mark of chemistry\"))\n",
    "sub3 = int(input(\"enter the mark of physics\"))\n",
    "sub4 = int(input(\"enter the mark of english\"))\n",
    "perc = (sub1+sub2+sub3+sub4/400)*100\n",
    "if(perc>90):\n",
    "    print(\"A\")\n",
    "elif(perc>80):\n",
    "    print(\"B\")\n",
    "elif(perc>70):\n",
    "    print(\"c\")\n",
    "elif(perc> 60):\n",
    "    print(\"D\")\n",
    "else:\n",
    "    print (\"failed\")"
   ]
  },
  {
   "cell_type": "code",
   "execution_count": 6,
   "metadata": {},
   "outputs": [
    {
     "name": "stdout",
     "output_type": "stream",
     "text": [
      "enter a number100\n",
      "35\n",
      "70\n"
     ]
    }
   ],
   "source": [
    "# python program to fing thosenumbers which are divisible by 7 and multiple of 5 ina given range of numbers\n",
    "\n",
    "n = int(input(\"enter a number\"))\n",
    "for i in range (1,n):\n",
    "    if(i% 35 == 0):\n",
    "        print(i)"
   ]
  },
  {
   "cell_type": "code",
   "execution_count": 15,
   "metadata": {},
   "outputs": [
    {
     "name": "stdout",
     "output_type": "stream",
     "text": [
      "enter the  number5\n",
      "10\n"
     ]
    }
   ],
   "source": [
    "# python program to find the sum of n natural numbers\n",
    "num = int(input(\"enter the  number\"))\n",
    "sum =0\n",
    "for i in range(1,num):\n",
    "        sum = sum +i\n",
    "print(sum)        "
   ]
  },
  {
   "cell_type": "code",
   "execution_count": 20,
   "metadata": {},
   "outputs": [
    {
     "name": "stdout",
     "output_type": "stream",
     "text": [
      "enter the number10\n",
      "2.9289682539682538\n"
     ]
    }
   ],
   "source": [
    "# python  program to find the sum of the series:1+1/2+1/3+...+1/n\n",
    "num  = int(input(\"enter the number\"))\n",
    "sum =0\n",
    "for i in range(1,num+1):\n",
    "    sum = sum+1/i\n",
    "print(sum)    "
   ]
  },
  {
   "cell_type": "code",
   "execution_count": 1,
   "metadata": {},
   "outputs": [
    {
     "name": "stdout",
     "output_type": "stream",
     "text": [
      " the number of elements5\n",
      "1\n",
      "2\n",
      "3\n",
      "4\n",
      "[1, 3]\n",
      "[2, 4]\n"
     ]
    }
   ],
   "source": [
    "# python program to put even and odd elements ina list into two different list\n",
    "n = int(input(\" the number of elements\"))\n",
    "list1 =[]\n",
    "odd  = []\n",
    "even = []\n",
    "for i in range(1,n):\n",
    "    list1.append(int(input()))\n",
    "for i in list1:    \n",
    "    if(i%2 == 0):\n",
    "        even.append(i)\n",
    "        \n",
    "    else:\n",
    "        odd.append(i)\n",
    "print(odd)\n",
    "print(even)"
   ]
  },
  {
   "cell_type": "code",
   "execution_count": 7,
   "metadata": {},
   "outputs": [
    {
     "name": "stdout",
     "output_type": "stream",
     "text": [
      "enter the stringhi all\n",
      "number of words in a string:\n",
      "2\n",
      "6\n"
     ]
    }
   ],
   "source": [
    "# python program to calculate the numbers of words and the number of characters present in a string\n",
    "string = input(\"enter the string\")\n",
    "char = 0\n",
    "word = 1\n",
    "for i in string:\n",
    "    char = char+1\n",
    "    if(i == ' '):\n",
    "        word =word+1\n",
    "print(\"number of words in a string:\")\n",
    "print(word)\n",
    "print(char)"
   ]
  },
  {
   "cell_type": "code",
   "execution_count": 11,
   "metadata": {},
   "outputs": [
    {
     "name": "stdout",
     "output_type": "stream",
     "text": [
      "6000\n"
     ]
    }
   ],
   "source": [
    "# python program to multiply all the items in adictionary\n",
    "\n",
    "d ={'A':10,'B':20,'C':30}\n",
    "total = 1\n",
    "for i in  d:\n",
    "    total = total*d[i]\n",
    "print(total)    \n",
    "\n"
   ]
  },
  {
   "cell_type": "code",
   "execution_count": 12,
   "metadata": {},
   "outputs": [
    {
     "name": "stdout",
     "output_type": "stream",
     "text": [
      "enter the first stringsabna\n",
      "enter the second stringsabnae\n",
      "{'n', 's', 'e', 'a', 'b'}\n"
     ]
    }
   ],
   "source": [
    "# python program that displays which letters are in the two strings but not in both.\n",
    "\n",
    "string1 = input(\"enter the first string\")\n",
    "string2 = input(\"enter the second string\")\n",
    "set1 = set(string1)\n",
    "set2 = set(string2)\n",
    "set3 = set1.union(set2)\n",
    "print(set3)"
   ]
  },
  {
   "cell_type": "code",
   "execution_count": 14,
   "metadata": {},
   "outputs": [
    {
     "data": {
      "text/plain": [
       "{'appu': 20, 'ammu': 30, 'anu': 40, 'achu': 25}"
      ]
     },
     "execution_count": 14,
     "metadata": {},
     "output_type": "execute_result"
    }
   ],
   "source": [
    "#python program to map two list into dictionary\n",
    "list1 = ['appu','ammu', 'anu','achu']\n",
    "list2 = [20,30,40,25]\n",
    "dict(zip(list1,list2))"
   ]
  },
  {
   "cell_type": "code",
   "execution_count": null,
   "metadata": {},
   "outputs": [],
   "source": []
  }
 ],
 "metadata": {
  "kernelspec": {
   "display_name": "Python 3",
   "language": "python",
   "name": "python3"
  },
  "language_info": {
   "codemirror_mode": {
    "name": "ipython",
    "version": 3
   },
   "file_extension": ".py",
   "mimetype": "text/x-python",
   "name": "python",
   "nbconvert_exporter": "python",
   "pygments_lexer": "ipython3",
   "version": "3.8.3"
  }
 },
 "nbformat": 4,
 "nbformat_minor": 4
}
