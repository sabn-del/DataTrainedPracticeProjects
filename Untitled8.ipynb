{
 "cells": [
  {
   "cell_type": "code",
   "execution_count": 5,
   "metadata": {},
   "outputs": [
    {
     "name": "stdout",
     "output_type": "stream",
     "text": [
      "enter a number4\n",
      "1 + 2 + 3 + 4 = 10\n",
      "\n"
     ]
    }
   ],
   "source": [
    "# read a number n and print and compute the series\n",
    "n = int(input(\"enter a number\"))\n",
    "a = []\n",
    "for i in range (1 ,n+1):\n",
    "    print(i,sep = \" \" , end =\" \")\n",
    "    if(i<n):\n",
    "        print(\"+\" , sep = \" \" , end = \" \")\n",
    "    a.append(i)\n",
    "        \n",
    "print(\"=\" , sum(a))\n",
    "print()       \n",
    "        "
   ]
  },
  {
   "cell_type": "code",
   "execution_count": 5,
   "metadata": {},
   "outputs": [
    {
     "name": "stdout",
     "output_type": "stream",
     "text": [
      "enter a number3\n",
      "3 number is  a prime\n",
      "enter the lower range1\n",
      "enter the upper range10\n",
      "3\n",
      "5\n",
      "5\n",
      "5\n",
      "7\n",
      "7\n",
      "7\n",
      "7\n",
      "7\n",
      "9\n"
     ]
    }
   ],
   "source": [
    "#python program to check if a number is a prime number print the all prime numbers in a fiven range\n",
    "n = int(input(\"enter a number\"))\n",
    "if(n>1):\n",
    "    for i in range(2 , n):\n",
    "        if(n % i == 0):\n",
    "            print( n,\" number is not a prime number\" )\n",
    "        else:\n",
    "            print(n,\"number is  a prime\")\n",
    "lower  = int(input(\"enter the lower range\"))\n",
    "upper  = int(input(\"enter the upper range\"))\n",
    "for n in range(lower, upper+1):\n",
    "    if(n>1):\n",
    "        for i in range(2,n):\n",
    "            if(n % i == 0):\n",
    "                   break\n",
    "            else:\n",
    "                    print(n) \n",
    "           \n",
    "    \n",
    "\n",
    "        "
   ]
  },
  {
   "cell_type": "code",
   "execution_count": 3,
   "metadata": {},
   "outputs": [
    {
     "name": "stdout",
     "output_type": "stream",
     "text": [
      "number of vowels 3\n"
     ]
    }
   ],
   "source": [
    "# python pgm to count the number of vowels present ina string using set\n",
    "def vowel_count(str):\n",
    "    count = 0\n",
    "    vowels = set(\"aeiouAEIOU\")\n",
    "    for alphabet in str:\n",
    "        if alphabet in vowels:\n",
    "            count =count+ 1\n",
    "    print(\"number of vowels\",count) \n",
    "str = \"hello world\"\n",
    "vowel_count(str)\n"
   ]
  },
  {
   "cell_type": "code",
   "execution_count": 2,
   "metadata": {},
   "outputs": [
    {
     "name": "stdout",
     "output_type": "stream",
     "text": [
      "enter the number of elements to the list4\n",
      "element: 45\n",
      "element: 20\n",
      "element: 80\n",
      "element: 93\n",
      "largest even number 2\n",
      "largest odd number 3\n"
     ]
    }
   ],
   "source": [
    "### python program to print largesteb=ven and largest odd number in a list\n",
    "\n",
    "n= int(input(\"enter the number of elements to the list\"))\n",
    "b = []\n",
    "for i in range(0, n):\n",
    "    a= int(input(\"element: \"))\n",
    "    b.append(i)\n",
    "c =[]\n",
    "d =[]\n",
    "for i in b:\n",
    "    if(i%2 ==0):\n",
    "        c.append(i)\n",
    "    else:\n",
    "         d.append(i)\n",
    "c.sort()\n",
    "d.sort()\n",
    "count1 = 0\n",
    "count2 =0\n",
    "for k in c:\n",
    "    count1 = count1+1\n",
    "for j in d:\n",
    "    count2 = count2+1\n",
    "print(\"largest even number\" , c[count1-1])\n",
    "print(\"largest odd number\", d[count2 -1])"
   ]
  },
  {
   "cell_type": "code",
   "execution_count": 1,
   "metadata": {},
   "outputs": [
    {
     "name": "stdout",
     "output_type": "stream",
     "text": [
      "Enter a number125\n",
      "125 the number is  not amstrong\n"
     ]
    }
   ],
   "source": [
    "# python program  to check if a number is an amstrong number\n",
    "num = int(input(\"Enter a number\"))\n",
    "sum =0\n",
    "temp = num\n",
    "while (temp>0):\n",
    "    dig = num %10\n",
    "    sum  += dig ** 3\n",
    "    temp //= 10\n",
    "if (num == sum):\n",
    "        print(num, \"the number is a amstrong number\")\n",
    "else:\n",
    "        print(num,\"the number is  not amstrong\")"
   ]
  },
  {
   "cell_type": "code",
   "execution_count": null,
   "metadata": {},
   "outputs": [],
   "source": []
  }
 ],
 "metadata": {
  "kernelspec": {
   "display_name": "Python 3",
   "language": "python",
   "name": "python3"
  },
  "language_info": {
   "codemirror_mode": {
    "name": "ipython",
    "version": 3
   },
   "file_extension": ".py",
   "mimetype": "text/x-python",
   "name": "python",
   "nbconvert_exporter": "python",
   "pygments_lexer": "ipython3",
   "version": "3.8.3"
  }
 },
 "nbformat": 4,
 "nbformat_minor": 4
}
