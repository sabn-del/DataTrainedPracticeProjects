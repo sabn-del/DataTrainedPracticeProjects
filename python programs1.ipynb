{
 "cells": [
  {
   "cell_type": "code",
   "execution_count": 1,
   "metadata": {},
   "outputs": [
    {
     "name": "stdout",
     "output_type": "stream",
     "text": [
      "23.0\n"
     ]
    }
   ],
   "source": [
    "list= [5,8,6,4]\n",
    "s = sum(list)\n",
    "l= len(list)\n",
    "average = s/1\n",
    "print(average)\n"
   ]
  },
  {
   "cell_type": "code",
   "execution_count": 5,
   "metadata": {},
   "outputs": [
    {
     "name": "stdout",
     "output_type": "stream",
     "text": [
      "enter the number678\n",
      "reverse 876\n"
     ]
    }
   ],
   "source": [
    "n = int(input(\"enter the number\"))\n",
    "rev =0\n",
    "while(n > 0):\n",
    "    dig = n%10\n",
    "    rev = rev *10+dig\n",
    "    n = n //10\n",
    "print(\"reverse\" , rev)\n",
    "\n"
   ]
  },
  {
   "cell_type": "code",
   "execution_count": 7,
   "metadata": {},
   "outputs": [
    {
     "name": "stdout",
     "output_type": "stream",
     "text": [
      "[1, 2, 3, 4, 4, 5, 6, 7]\n"
     ]
    }
   ],
   "source": [
    "list_1 =[1,2,3,4]\n",
    "list_2 = [4,5,6,7]\n",
    "list_2.extend(list_1)\n",
    "list_3 = list_2\n",
    "list_3.sort()\n",
    "print(list_3)"
   ]
  },
  {
   "cell_type": "code",
   "execution_count": 10,
   "metadata": {},
   "outputs": [
    {
     "name": "stdout",
     "output_type": "stream",
     "text": [
      "enter a  stringccvvcc\n",
      "this is a palindrom string\n"
     ]
    }
   ],
   "source": [
    "string = str(input(\"enter a  string\"))\n",
    "if(string == string[:: - 1]):\n",
    "        print(\"this is a palindrom string\")\n",
    "else:\n",
    "    print(\"the string is not a paliandrom\")"
   ]
  },
  {
   "cell_type": "code",
   "execution_count": 21,
   "metadata": {},
   "outputs": [
    {
     "name": "stdout",
     "output_type": "stream",
     "text": [
      "enter the key  to be added12\n",
      "enter the  value for the key tobe added34\n",
      "{2: 4, 3: 5, '12': 34}\n"
     ]
    }
   ],
   "source": [
    "key = (input(\"enter the key  to be added\"))\n",
    "value = int(input(\"enter the  value for the key tobe added\"))\n",
    "d = {2:4,3:5}\n",
    "d.update({key:value})\n",
    "print(d)\n"
   ]
  },
  {
   "cell_type": "code",
   "execution_count": 7,
   "metadata": {
    "scrolled": true
   },
   "outputs": [
    {
     "name": "stdout",
     "output_type": "stream",
     "text": [
      "enter the number of elements5\n",
      "Enter element2:10\n",
      "Enter element3:20\n",
      "Enter element4:30\n",
      "Enter element5:40\n",
      "no duplicaye items\n",
      "[10, 20, 30, 40]\n"
     ]
    }
   ],
   "source": [
    "n = int(input(\"enter the number of elements\"))\n",
    "a = []\n",
    "b = set()\n",
    "for x in range(1,n):\n",
    "    element = int(input(\"Enter element\" + str(x+1) + \":\"))\n",
    "    a.append(element)\n",
    "b = set()\n",
    "unique = []\n",
    "for x in a:\n",
    "        if x not in b:\n",
    "            unique.append(x)\n",
    "            b.add(x)\n",
    "print(\"no duplicaye items\")\n",
    "print(unique)\n",
    "\n",
    "    \n",
    "    \n",
    "\n"
   ]
  },
  {
   "cell_type": "code",
   "execution_count": null,
   "metadata": {},
   "outputs": [],
   "source": []
  },
  {
   "cell_type": "code",
   "execution_count": null,
   "metadata": {},
   "outputs": [],
   "source": []
  }
 ],
 "metadata": {
  "kernelspec": {
   "display_name": "Python 3",
   "language": "python",
   "name": "python3"
  },
  "language_info": {
   "codemirror_mode": {
    "name": "ipython",
    "version": 3
   },
   "file_extension": ".py",
   "mimetype": "text/x-python",
   "name": "python",
   "nbconvert_exporter": "python",
   "pygments_lexer": "ipython3",
   "version": "3.8.3"
  }
 },
 "nbformat": 4,
 "nbformat_minor": 4
}
